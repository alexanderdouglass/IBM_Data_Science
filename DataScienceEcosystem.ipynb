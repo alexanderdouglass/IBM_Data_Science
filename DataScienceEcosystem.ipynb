{
 "cells": [
  {
   "cell_type": "markdown",
   "id": "16427de6-801b-4c2c-9f79-1bebee007078",
   "metadata": {},
   "source": [
    "<center>\n",
    "    <img src=\"https://cf-courses-data.s3.us.cloud-object-storage.appdomain.cloud/IBMDeveloperSkillsNetwork-DS0105EN-SkillsNetwork/labs/Module2/images/SN_web_lightmode.png\" width=\"300\" alt=\"cognitiveclass.ai logo\">\n",
    "</center>\n"
   ]
  },
  {
   "cell_type": "markdown",
   "id": "5c37a756-f19b-4c48-be2e-4f23716e34f2",
   "metadata": {},
   "source": [
    "#### Add your code below following the instructions given in the course"
   ]
  },
  {
   "cell_type": "markdown",
   "id": "d3b52513-81cc-4073-9421-3f293262dc88",
   "metadata": {},
   "source": [
    "# Data Science Tools and Ecosystem"
   ]
  },
  {
   "cell_type": "markdown",
   "id": "bd6c5766-a3d9-4feb-99e5-30861f2942ec",
   "metadata": {},
   "source": [
    "## Author\n",
    "Alexander Douglass"
   ]
  },
  {
   "cell_type": "markdown",
   "id": "042729c9-d491-44f5-a676-887d083ba396",
   "metadata": {},
   "source": [
    "In this notebook, Data Science Tools and Ecosystem are summarized."
   ]
  },
  {
   "cell_type": "markdown",
   "id": "ae7324d6-d1a1-4a95-83bf-9fd4b2f51224",
   "metadata": {},
   "source": [
    "Objectives:\n",
    "- List common libraries used by Data Scientists.\n",
    "- Create a table of useful data science tools.\n",
    "- Provide examples of python expressions."
   ]
  },
  {
   "cell_type": "markdown",
   "id": "0a9f3c40-a524-425c-a2e3-6f1910729b1c",
   "metadata": {},
   "source": [
    "Some of the popular languages that Data Scientists use are:\n",
    "1. Python\n",
    "2. R\n",
    "3. Julia\n",
    "4. Java\n",
    "5. SQL"
   ]
  },
  {
   "cell_type": "markdown",
   "id": "5bc6739f-3e3f-4e57-97cc-a1da7aecf97a",
   "metadata": {},
   "source": [
    "Some of the commonly used libraries used by Data Scientists include:\n",
    "1. NumPy\n",
    "2. SciPy\n",
    "3. Tensorflow\n",
    "4. Matplotlib\n",
    "5. Pandas"
   ]
  },
  {
   "cell_type": "markdown",
   "id": "d57a4850-74cd-450e-bbd2-ef2dd0df9b21",
   "metadata": {},
   "source": [
    "| Data Science Tools |\n",
    "| :-: |\n",
    "| RStudio |\n",
    "| Jupyter Notebooks |\n",
    "| Apache Spark |"
   ]
  },
  {
   "cell_type": "markdown",
   "id": "74536dde-c265-429d-ab81-4ba8d8b3e654",
   "metadata": {},
   "source": [
    "### Below are a few examples of evaluating arithmetic expressions in Python\n",
    "7*4+52\n",
    "\n",
    "8//3\n",
    "\n",
    "6/2+(7-3)\n"
   ]
  },
  {
   "cell_type": "code",
   "execution_count": 7,
   "id": "f8b8b602-643e-4bdc-8e3b-3cca599919a7",
   "metadata": {},
   "outputs": [
    {
     "data": {
      "text/plain": [
       "17"
      ]
     },
     "execution_count": 7,
     "metadata": {},
     "output_type": "execute_result"
    }
   ],
   "source": [
    "# This a simple arithmetic expression to mutiply then add integers\n",
    "(3*4)+5"
   ]
  },
  {
   "cell_type": "code",
   "execution_count": 8,
   "id": "d6d3dd41-ceb6-40d8-b081-d547e81cdd7c",
   "metadata": {},
   "outputs": [
    {
     "name": "stdout",
     "output_type": "stream",
     "text": [
      "3.3333333333333335\n"
     ]
    }
   ],
   "source": [
    "# This will convert 200 minutes to hours by diving by 60\n",
    "minutes = 200\n",
    "hours = minutes/60\n",
    "print(hours)"
   ]
  },
  {
   "cell_type": "code",
   "execution_count": null,
   "id": "e97a60dc-912c-443c-9f64-83f7aefd094e",
   "metadata": {},
   "outputs": [],
   "source": []
  }
 ],
 "metadata": {
  "kernelspec": {
   "display_name": "Python 3 (ipykernel)",
   "language": "python",
   "name": "python3"
  },
  "language_info": {
   "codemirror_mode": {
    "name": "ipython",
    "version": 3
   },
   "file_extension": ".py",
   "mimetype": "text/x-python",
   "name": "python",
   "nbconvert_exporter": "python",
   "pygments_lexer": "ipython3",
   "version": "3.10.4"
  }
 },
 "nbformat": 4,
 "nbformat_minor": 5
}
